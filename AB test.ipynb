{
 "cells": [
  {
   "cell_type": "code",
   "execution_count": 1,
   "id": "eecaae1d",
   "metadata": {},
   "outputs": [],
   "source": [
    "import pandas as pd"
   ]
  },
  {
   "cell_type": "code",
   "execution_count": 2,
   "id": "ded4549a",
   "metadata": {},
   "outputs": [],
   "source": [
    "df=pd.read_excel(r\"C:\\Users\\akshay\\Downloads\\Recommendation_data.xlsx\")"
   ]
  },
  {
   "cell_type": "code",
   "execution_count": 3,
   "id": "73d9ef44",
   "metadata": {},
   "outputs": [
    {
     "data": {
      "text/html": [
       "<div>\n",
       "<style scoped>\n",
       "    .dataframe tbody tr th:only-of-type {\n",
       "        vertical-align: middle;\n",
       "    }\n",
       "\n",
       "    .dataframe tbody tr th {\n",
       "        vertical-align: top;\n",
       "    }\n",
       "\n",
       "    .dataframe thead th {\n",
       "        text-align: right;\n",
       "    }\n",
       "</style>\n",
       "<table border=\"1\" class=\"dataframe\">\n",
       "  <thead>\n",
       "    <tr style=\"text-align: right;\">\n",
       "      <th></th>\n",
       "      <th>customer_id</th>\n",
       "      <th>Recommendation_name</th>\n",
       "      <th>Recommendation_date</th>\n",
       "      <th>suggestion_type</th>\n",
       "      <th>purchase_flag</th>\n",
       "    </tr>\n",
       "  </thead>\n",
       "  <tbody>\n",
       "    <tr>\n",
       "      <th>0</th>\n",
       "      <td>1.0</td>\n",
       "      <td>Recommend_screenguard</td>\n",
       "      <td>2021-07-02</td>\n",
       "      <td>With phone</td>\n",
       "      <td>0.0</td>\n",
       "    </tr>\n",
       "    <tr>\n",
       "      <th>1</th>\n",
       "      <td>2.0</td>\n",
       "      <td>Recommend_screenguard</td>\n",
       "      <td>2021-07-03</td>\n",
       "      <td>With phone</td>\n",
       "      <td>0.0</td>\n",
       "    </tr>\n",
       "    <tr>\n",
       "      <th>2</th>\n",
       "      <td>3.0</td>\n",
       "      <td>Recommend_screenguard</td>\n",
       "      <td>2021-07-04</td>\n",
       "      <td>With cover</td>\n",
       "      <td>1.0</td>\n",
       "    </tr>\n",
       "    <tr>\n",
       "      <th>3</th>\n",
       "      <td>4.0</td>\n",
       "      <td>Recommend_screenguard</td>\n",
       "      <td>2021-07-05</td>\n",
       "      <td>With phone</td>\n",
       "      <td>0.0</td>\n",
       "    </tr>\n",
       "    <tr>\n",
       "      <th>4</th>\n",
       "      <td>5.0</td>\n",
       "      <td>Recommend_screenguard</td>\n",
       "      <td>2021-07-06</td>\n",
       "      <td>With cover</td>\n",
       "      <td>1.0</td>\n",
       "    </tr>\n",
       "    <tr>\n",
       "      <th>...</th>\n",
       "      <td>...</td>\n",
       "      <td>...</td>\n",
       "      <td>...</td>\n",
       "      <td>...</td>\n",
       "      <td>...</td>\n",
       "    </tr>\n",
       "    <tr>\n",
       "      <th>863</th>\n",
       "      <td>864.0</td>\n",
       "      <td>Recommend_screenguard</td>\n",
       "      <td>2023-11-12</td>\n",
       "      <td>With cover</td>\n",
       "      <td>1.0</td>\n",
       "    </tr>\n",
       "    <tr>\n",
       "      <th>864</th>\n",
       "      <td>865.0</td>\n",
       "      <td>Recommend_screenguard</td>\n",
       "      <td>2023-11-13</td>\n",
       "      <td>With phone</td>\n",
       "      <td>1.0</td>\n",
       "    </tr>\n",
       "    <tr>\n",
       "      <th>865</th>\n",
       "      <td>866.0</td>\n",
       "      <td>Recommend_screenguard</td>\n",
       "      <td>2023-11-14</td>\n",
       "      <td>With cover</td>\n",
       "      <td>1.0</td>\n",
       "    </tr>\n",
       "    <tr>\n",
       "      <th>866</th>\n",
       "      <td>867.0</td>\n",
       "      <td>Recommend_screenguard</td>\n",
       "      <td>2023-11-15</td>\n",
       "      <td>With phone</td>\n",
       "      <td>1.0</td>\n",
       "    </tr>\n",
       "    <tr>\n",
       "      <th>867</th>\n",
       "      <td>868.0</td>\n",
       "      <td>Recommend_screenguard</td>\n",
       "      <td>2023-11-16</td>\n",
       "      <td>With cover</td>\n",
       "      <td>1.0</td>\n",
       "    </tr>\n",
       "  </tbody>\n",
       "</table>\n",
       "<p>868 rows × 5 columns</p>\n",
       "</div>"
      ],
      "text/plain": [
       "     customer_id    Recommendation_name Recommendation_date suggestion_type  \\\n",
       "0            1.0  Recommend_screenguard          2021-07-02      With phone   \n",
       "1            2.0  Recommend_screenguard          2021-07-03      With phone   \n",
       "2            3.0  Recommend_screenguard          2021-07-04      With cover   \n",
       "3            4.0  Recommend_screenguard          2021-07-05      With phone   \n",
       "4            5.0  Recommend_screenguard          2021-07-06      With cover   \n",
       "..           ...                    ...                 ...             ...   \n",
       "863        864.0  Recommend_screenguard          2023-11-12      With cover   \n",
       "864        865.0  Recommend_screenguard          2023-11-13      With phone   \n",
       "865        866.0  Recommend_screenguard          2023-11-14      With cover   \n",
       "866        867.0  Recommend_screenguard          2023-11-15      With phone   \n",
       "867        868.0  Recommend_screenguard          2023-11-16      With cover   \n",
       "\n",
       "     purchase_flag  \n",
       "0              0.0  \n",
       "1              0.0  \n",
       "2              1.0  \n",
       "3              0.0  \n",
       "4              1.0  \n",
       "..             ...  \n",
       "863            1.0  \n",
       "864            1.0  \n",
       "865            1.0  \n",
       "866            1.0  \n",
       "867            1.0  \n",
       "\n",
       "[868 rows x 5 columns]"
      ]
     },
     "execution_count": 3,
     "metadata": {},
     "output_type": "execute_result"
    }
   ],
   "source": [
    "df"
   ]
  },
  {
   "cell_type": "code",
   "execution_count": 5,
   "id": "97e75a27",
   "metadata": {},
   "outputs": [],
   "source": [
    "df.dropna(inplace=True)"
   ]
  },
  {
   "cell_type": "code",
   "execution_count": 6,
   "id": "d8f4d5c7",
   "metadata": {},
   "outputs": [
    {
     "data": {
      "text/plain": [
       "(711, 5)"
      ]
     },
     "execution_count": 6,
     "metadata": {},
     "output_type": "execute_result"
    }
   ],
   "source": [
    "df.shape"
   ]
  },
  {
   "cell_type": "code",
   "execution_count": 7,
   "id": "3efca72d",
   "metadata": {},
   "outputs": [
    {
     "data": {
      "text/plain": [
       "suggestion_type  purchase_flag\n",
       "With cover       0.0              206\n",
       "                 1.0              130\n",
       "With phone       0.0              258\n",
       "                 1.0              117\n",
       "Name: purchase_flag, dtype: int64"
      ]
     },
     "execution_count": 7,
     "metadata": {},
     "output_type": "execute_result"
    }
   ],
   "source": [
    "df.groupby('suggestion_type')['purchase_flag'].value_counts()"
   ]
  },
  {
   "cell_type": "code",
   "execution_count": 8,
   "id": "a8df400d",
   "metadata": {},
   "outputs": [],
   "source": [
    "#recommended with cover 206+136 out of that 136 bought\n",
    "#recommended with phone 258+117 out of that 117 bought"
   ]
  },
  {
   "cell_type": "code",
   "execution_count": 9,
   "id": "ffc9ce7a",
   "metadata": {},
   "outputs": [],
   "source": [
    "contigency_table=pd.crosstab(df['suggestion_type'],df['purchase_flag']).values"
   ]
  },
  {
   "cell_type": "code",
   "execution_count": 10,
   "id": "425b8904",
   "metadata": {},
   "outputs": [
    {
     "data": {
      "text/plain": [
       "array([[206, 130],\n",
       "       [258, 117]], dtype=int64)"
      ]
     },
     "execution_count": 10,
     "metadata": {},
     "output_type": "execute_result"
    }
   ],
   "source": [
    "contigency_table #count for each category bought or not bought"
   ]
  },
  {
   "cell_type": "code",
   "execution_count": 13,
   "id": "31734575",
   "metadata": {},
   "outputs": [
    {
     "name": "stdout",
     "output_type": "stream",
     "text": [
      "0.312 0.3869047619047619\n"
     ]
    }
   ],
   "source": [
    "#purchase rate\n",
    "with_phone=117/(117+258)\n",
    "with_cover=130/(130+206)\n",
    "print(with_phone,with_cover)"
   ]
  },
  {
   "cell_type": "code",
   "execution_count": 14,
   "id": "f38a3bfa",
   "metadata": {},
   "outputs": [],
   "source": [
    "null_hypothesis=\"there is no relationship between purchase rate and recommendation type.They are independent\"\n",
    "alternate_hypothesis=\"there is a relationship between purchase rate and recommendation type.They are not independent\""
   ]
  },
  {
   "cell_type": "code",
   "execution_count": 20,
   "id": "71d80070",
   "metadata": {},
   "outputs": [
    {
     "name": "stdout",
     "output_type": "stream",
     "text": [
      "4.385751976925068 0.03624050241176425\n"
     ]
    }
   ],
   "source": [
    "\n",
    "\n",
    "from scipy.stats import chi2_contingency\n",
    "chi2_statistic,p_value,dof,expected_values=chi2_contingency(contigency_table,correction=False)\n",
    "print(chi2_statistic,p_value)"
   ]
  },
  {
   "cell_type": "code",
   "execution_count": 22,
   "id": "f68ec93e",
   "metadata": {},
   "outputs": [
    {
     "name": "stdout",
     "output_type": "stream",
     "text": [
      "significance=0.050,p=0.036\n",
      "dependent,we can reject ho \n"
     ]
    }
   ],
   "source": [
    "prob=0.95\n",
    "alpha=1-prob\n",
    "print('significance=%.3f,p=%.3f' % (alpha,p_value))\n",
    "if p_value<= alpha:\n",
    "      print('dependent,we can reject ho ')\n",
    "else:\n",
    "      print('independent,no sufficient evidence to reject Ho')"
   ]
  },
  {
   "cell_type": "code",
   "execution_count": null,
   "id": "ee928952",
   "metadata": {},
   "outputs": [],
   "source": []
  }
 ],
 "metadata": {
  "kernelspec": {
   "display_name": "Python 3 (ipykernel)",
   "language": "python",
   "name": "python3"
  },
  "language_info": {
   "codemirror_mode": {
    "name": "ipython",
    "version": 3
   },
   "file_extension": ".py",
   "mimetype": "text/x-python",
   "name": "python",
   "nbconvert_exporter": "python",
   "pygments_lexer": "ipython3",
   "version": "3.9.7"
  }
 },
 "nbformat": 4,
 "nbformat_minor": 5
}
